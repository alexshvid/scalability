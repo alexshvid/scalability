{
 "cells": [
  {
   "cell_type": "markdown",
   "metadata": {
    "collapsed": false
   },
   "source": [
    "# Scalability of distributed machine learning"
   ]
  },
  {
   "cell_type": "markdown",
   "metadata": {},
   "source": [
    "Lets consider bulk synchronous parallel processing model. Time of one iteration consists of computation and communication times that depend on the number of operations C, data D and number of nodes n.\n",
    "  - T = tcm + tcp\n",
    "  - tcp = C * f2(n)\n",
    "  - tcm = D * f1(n)"
   ]
  },
  {
   "cell_type": "code",
   "execution_count": 273,
   "metadata": {
    "collapsed": true
   },
   "outputs": [],
   "source": [
    "import math\n",
    "def tcp(n, flops, p):\n",
    "    return flops / (n * p)\n",
    "def tcm(n, weights, b, c):\n",
    "    return 2 * (weights / b + c) * math.log (n, 2)\n",
    "def t(n, weights, flops, b, c, p):\n",
    "    return tcp(n, flops, p) + tcm(n, weights, b, c)\n"
   ]
  },
  {
   "cell_type": "markdown",
   "metadata": {},
   "source": [
    "## Scalability of distributed deep learning\n",
    "### Weights and Flops estimation"
   ]
  },
  {
   "cell_type": "markdown",
   "metadata": {},
   "source": [
    "The following formulas give estimations of number of weights and operations for training fully-connected and convolutional neural networks."
   ]
  },
  {
   "cell_type": "code",
   "execution_count": 291,
   "metadata": {
    "collapsed": false
   },
   "outputs": [],
   "source": [
    "# 5 + 1 == 6 gradient plus accumulation of gradient\n",
    "def weightsAndFlops(layers):\n",
    "    w = 0\n",
    "    for i in range(1, len(layers)):\n",
    "        w = w + layers[i - 1] * layers[i] + layers[i]\n",
    "    return (w, 6 * w)\n",
    "assert(weightsAndFlops([784, 10])[0] == 7850)"
   ]
  },
  {
   "cell_type": "markdown",
   "metadata": {},
   "source": [
    "Convlutional neural network"
   ]
  },
  {
   "cell_type": "code",
   "execution_count": 380,
   "metadata": {
    "collapsed": false
   },
   "outputs": [
    {
     "name": "stdout",
     "output_type": "stream",
     "text": [
      "layer:  0  w:  34848  f:  105415200\n",
      "layer:  2  w:  307200  f:  223948800\n",
      "layer:  4  w:  884736  f:  149520384\n",
      "layer:  5  w:  663552  f:  112140288\n",
      "layer:  6  w:  442368  f:  74760192\n",
      "layer:  8 w:  37748736  f:  37748736\n",
      "layer:  9 w:  16777216  f:  16777216\n",
      "layer:  10 w:  4096000  f:  4096000\n",
      "60954656.0 4346440896.0\n"
     ]
    }
   ],
   "source": [
    "import numpy as np\n",
    "def computeConvOutput(data, layer):\n",
    "    n = layer['count']\n",
    "    k = layer['size']\n",
    "    b = layer['border']\n",
    "    s = layer['stride']\n",
    "    c = (data[0] - k + b) // s + 1   \n",
    "    return [c, c, n]\n",
    "def computePoolOutput(data, layer):\n",
    "    n = data[2]\n",
    "    k = layer['size']\n",
    "    b = layer['border']\n",
    "    s = layer['stride']\n",
    "    c = (data[0] - k + b) // s + 1   \n",
    "    return [c, c, n]\n",
    "def cnnWeightsAndFlops(inputLayer, layers):\n",
    "    w = 0.0\n",
    "    f = 0.0\n",
    "    inputData = inputLayer\n",
    "    for i in range(0, len(layers)):\n",
    "        layer = layers[i]\n",
    "        if (layer['type'] == 'conv'):\n",
    "            n = layer['count']\n",
    "            k = layer['size']\n",
    "            d = layer['depth']\n",
    "            inputData = computeConvOutput(inputData, layer)\n",
    "            c = inputData[0]\n",
    "            w = w + n * (k * k * d + c * c)\n",
    "            f = f + n * (k * k * d * c * c)\n",
    "        if (layer['type'] == 'pool'):\n",
    "            n = inputData[2]\n",
    "            inputData = computePoolOutput(inputData, layer)\n",
    "        if (layer['type'] == 'full'):\n",
    "            k = layer['size']\n",
    "            inputFlat = np.product(inputData)\n",
    "            w = w + k * inputFlat + k\n",
    "            f = f + k * inputFlat + k\n",
    "            inputData = [k]\n",
    "        print(\"w: \", w, \" f: \", f)\n",
    "    return (w, 6 * f)\n",
    "def cnnWeightsAndFlops2(inputLayer, layers):\n",
    "    w = 0.0\n",
    "    f = 0.0\n",
    "    inputData = inputLayer\n",
    "    for i in range(0, len(layers)):\n",
    "        layer = layers[i]\n",
    "        if (layer['type'] == 'conv'):\n",
    "            n = layer['count']\n",
    "            k = layer['size']\n",
    "            d = layer['depth']\n",
    "            inputData = computeConvOutput(inputData, layer)\n",
    "            c = inputData[0]\n",
    "            dw = n * (k * k * d) # no bias + c * c)\n",
    "            w = w + dw\n",
    "            df = n * (k * k * d * c * c)\n",
    "            f = f + df\n",
    "            print(\"layer: \", i, \" w: \", dw, \" f: \", df)\n",
    "        if (layer['type'] == 'pool'):\n",
    "            n = inputData[2]\n",
    "            inputData = computePoolOutput(inputData, layer)\n",
    "        if (layer['type'] == 'full'):\n",
    "            k = layer['size']\n",
    "            inputFlat = np.product(inputData)\n",
    "            dw = k * inputFlat\n",
    "            w = w + dw\n",
    "            df = dw\n",
    "            f = f + df\n",
    "            inputData = [k]\n",
    "            print(\"layer: \", i, \"w: \", dw, \" f: \", df)\n",
    "    return (w, 6 * f)\n",
    "weights, flops = cnnWeightsAndFlops2([227, 227, 3], [\n",
    "                           {'type' : 'conv', 'count' : 96, 'size' : 11, 'depth' : 3, 'stride': 4, 'border' : 0},\n",
    "                           {'type' : 'pool', 'size' : 3, 'stride': 2, 'border' : 0},\n",
    "                           {'type' : 'conv', 'count' : 256, 'size' : 5, 'depth' : 48, 'stride': 1, 'border' : 4},\n",
    "                           {'type' : 'pool', 'size' : 3, 'stride': 2, 'border' : 0},\n",
    "                           {'type' : 'conv', 'count' : 384, 'size' : 3, 'depth' : 256, 'stride': 1, 'border' : 2},\n",
    "                           {'type' : 'conv', 'count' : 384, 'size' : 3, 'depth' : 192, 'stride': 1, 'border' : 2}, # depth is 192 in paper\n",
    "                           {'type' : 'conv', 'count' : 256, 'size' : 3, 'depth' : 192, 'stride': 1, 'border' : 2},\n",
    "                           {'type' : 'pool', 'size' : 3, 'stride': 2, 'border' : 0}, \n",
    "                           {'type' : 'full', 'size' : 4096},\n",
    "                           {'type' : 'full', 'size' : 4096},\n",
    "                           {'type' : 'full', 'size' : 1000}\n",
    "                          ])\n",
    "print(weights, flops)\n"
   ]
  },
  {
   "cell_type": "markdown",
   "metadata": {},
   "source": [
    "Unit test"
   ]
  },
  {
   "cell_type": "code",
   "execution_count": 376,
   "metadata": {
    "collapsed": false
   },
   "outputs": [
    {
     "name": "stdout",
     "output_type": "stream",
     "text": [
      "w:  1068.0  f:  19200.0\n",
      "w:  1068.0  f:  19200.0\n",
      "w:  3660.0  f:  57600.0\n",
      "w:  9450.0  f:  63390.0\n",
      "w:  9760.0  f:  63700.0\n"
     ]
    }
   ],
   "source": [
    "# LeCun et al. 1982 (1068 + 2592 + 5790 + 310 == 9760 weights)\n",
    "assert cnnWeightsAndFlops([16, 16, 1], [{'type' : 'conv', 'count' : 12, 'size' : 5, 'depth' : 1, 'stride': 2, 'border' : 3}])[0] == 1068\n",
    "assert cnnWeightsAndFlops([16, 16, 1], [{'type' : 'conv', 'count' : 12, 'size' : 5, 'depth' : 1, 'stride': 2, 'border' : 3},\n",
    "                         {'type' : 'conv', 'count' : 12, 'size' : 5, 'depth' : 8, 'stride': 2, 'border' : 3},\n",
    "                         {'type' : 'full', 'size' : 30},\n",
    "                         {'type' : 'full', 'size' : 10}])[0] == 9760\n",
    "# Krizhevsky et al. 2012, AlexNet, see also https://github.com/BVLC/caffe/blob/master/models/bvlc_alexnet/deploy.prototxt\n",
    "assert(computeConvOutput([227, 227, 3], {'type' : 'conv', 'count' : 96, 'size' : 11, 'depth' : 3, 'stride': 4, 'border' : 0}) == [55, 55, 96])\n",
    "assert(computePoolOutput([55, 55, 96], {'type' : 'pool', 'size' : 3, 'stride': 2, 'border' : 0}) == [27, 27, 96])\n",
    "assert(computeConvOutput([27, 27, 256], {'type' : 'conv', 'count' : 256, 'size' : 5, 'depth' : 48, 'stride': 1, 'border' : 4}) == [27, 27, 256])\n",
    "assert(computePoolOutput([27, 27, 256], {'type' : 'pool', 'size' : 3, 'stride': 2, 'border' : 0}) == [13, 13, 256])\n",
    "assert(computeConvOutput([13, 13, 256], {'type' : 'conv', 'count' : 384, 'size' : 3, 'depth' : 256, 'stride': 1, 'border' : 2}) == [13, 13, 384])\n",
    "assert(computeConvOutput([13, 13, 384], {'type' : 'conv', 'count' : 384, 'size' : 3, 'depth' : 192, 'stride': 1, 'border' : 2}) == [13, 13, 384])\n",
    "assert(computeConvOutput([13, 13, 256], {'type' : 'conv', 'count' : 256, 'size' : 3, 'depth' : 192, 'stride': 1, 'border' : 2}) == [13, 13, 256])\n",
    "assert(computePoolOutput([13, 13, 256], {'type' : 'pool', 'size' : 3, 'stride': 2, 'border' : 0}) == [6, 6, 256])\n",
    "\n",
    "# print(computeConvOutput([227, 227, 3], {'type' : 'conv', 'count' : 64, 'size' : 7, 'depth' : 1, 'stride': 2, 'border' : 2}))\n",
    "# print(\"w, f\", cnnWeightsAndFlops2([227, 227, 3], [{'type' : 'conv', 'count' : 64, 'size' : 7, 'depth' : 1, 'stride': 2, 'border' : 2}]))\n"
   ]
  },
  {
   "cell_type": "markdown",
   "metadata": {},
   "source": [
    "### Scalability of fully connected networks"
   ]
  },
  {
   "cell_type": "markdown",
   "metadata": {},
   "source": [
    "### Scalability of convolutional networks\n",
    "\n",
    "AlexNet"
   ]
  },
  {
   "cell_type": "code",
   "execution_count": 377,
   "metadata": {
    "collapsed": false
   },
   "outputs": [
    {
     "name": "stdout",
     "output_type": "stream",
     "text": [
      "w:  325248.0  f:  105415200.0\n",
      "w:  325248.0  f:  105415200.0\n",
      "w:  819072.0  f:  329364000.0\n",
      "w:  819072.0  f:  329364000.0\n",
      "w:  1768704.0  f:  478884384.0\n",
      "w:  2497152.0  f:  591024672.0\n",
      "w:  2982784.0  f:  665784864.0\n",
      "w:  2982784.0  f:  665784864.0\n",
      "w:  40735616.0  f:  703537696.0\n",
      "w:  57516928.0  f:  720319008.0\n",
      "w:  61613928.0  f:  724416008.0\n"
     ]
    },
    {
     "data": {
      "text/plain": [
       "[<matplotlib.lines.Line2D at 0x7396ff0>]"
      ]
     },
     "execution_count": 377,
     "metadata": {},
     "output_type": "execute_result"
    },
    {
     "data": {
      "image/png": "[encoded data removed]",
      "text/plain": [
       "<matplotlib.figure.Figure at 0x68f0130>"
      ]
     },
     "metadata": {},
     "output_type": "display_data"
    }
   ],
   "source": [
    "%matplotlib inline\n",
    "import matplotlib.pyplot as plt\n",
    "import numpy as np\n",
    "n = np.arange(1, 16)\n",
    "weights, flops = cnnWeightsAndFlops([227, 227, 3], [{'type' : 'conv', 'count' : 96, 'size' : 11, 'depth' : 3, 'stride': 4, 'border' : 0},\n",
    "                           {'type' : 'pool', 'size' : 3, 'stride': 2, 'border' : 0},\n",
    "                           {'type' : 'conv', 'count' : 256, 'size' : 5, 'depth' : 48, 'stride': 1, 'border' : 4},\n",
    "                           {'type' : 'pool', 'size' : 3, 'stride': 2, 'border' : 0},\n",
    "                           {'type' : 'conv', 'count' : 384, 'size' : 3, 'depth' : 256, 'stride': 1, 'border' : 2},\n",
    "                           {'type' : 'conv', 'count' : 384, 'size' : 3, 'depth' : 192, 'stride': 1, 'border' : 2},\n",
    "                           {'type' : 'conv', 'count' : 256, 'size' : 3, 'depth' : 192, 'stride': 1, 'border' : 2},\n",
    "                           {'type' : 'pool', 'size' : 3, 'stride': 2, 'border' : 0}, \n",
    "                           {'type' : 'full', 'size' : 4096},\n",
    "                           {'type' : 'full', 'size' : 4096},\n",
    "                           {'type' : 'full', 'size' : 1000}\n",
    "                          ])\n",
    "flops = flops * 1024\n",
    "weights = weights * 32\n",
    "p = 2.3e12\n",
    "b = 20 * 8 * 1e9\n",
    "c = 0.0\n",
    "vtcp = np.vectorize(tcp)\n",
    "vtcm = np.vectorize(tcm)\n",
    "vt = np.vectorize(t)\n",
    "tcomp = vtcp(n, flops, p)\n",
    "tcomm = vtcm(n, weights, b, c)\n",
    "titer = vt(n, weights, flops, b, c, p)\n",
    "plt.plot(n,tcomp)\n",
    "plt.plot(n,tcomm)\n",
    "plt.plot(n, titer)\n",
    "#plt.ylabel('some numbers')"
   ]
  },
  {
   "cell_type": "code",
   "execution_count": 378,
   "metadata": {
    "collapsed": false
   },
   "outputs": [
    {
     "data": {
      "text/plain": [
       "13.9393896158901"
      ]
     },
     "execution_count": 378,
     "metadata": {},
     "output_type": "execute_result"
    }
   ],
   "source": [
    "t(1, weights, 7e12, b, c, p) / t(32, weights, 7e12, b, c, p) "
   ]
  },
  {
   "cell_type": "code",
   "execution_count": 379,
   "metadata": {
    "collapsed": false
   },
   "outputs": [
    {
     "data": {
      "text/plain": [
       "4346496048.0"
      ]
     },
     "execution_count": 379,
     "metadata": {},
     "output_type": "execute_result"
    }
   ],
   "source": [
    "flops / 1024"
   ]
  },
  {
   "cell_type": "code",
   "execution_count": null,
   "metadata": {
    "collapsed": true
   },
   "outputs": [],
   "source": []
  },
  {
   "cell_type": "code",
   "execution_count": null,
   "metadata": {
    "collapsed": true
   },
   "outputs": [],
   "source": []
  }
 ],
 "metadata": {
  "kernelspec": {
   "display_name": "Python 3",
   "language": "python",
   "name": "python3"
  },
  "language_info": {
   "codemirror_mode": {
    "name": "ipython",
    "version": 3
   },
   "file_extension": ".py",
   "mimetype": "text/x-python",
   "name": "python",
   "nbconvert_exporter": "python",
   "pygments_lexer": "ipython3",
   "version": "3.5.1"
  }
 },
 "nbformat": 4,
 "nbformat_minor": 0
}
