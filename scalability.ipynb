{
 "cells": [
  {
   "cell_type": "code",
   "execution_count": 45,
   "metadata": {
    "collapsed": false
   },
   "outputs": [],
   "source": [
    "import math\n",
    "def tcp(n, flops, p):\n",
    "    return flops / (n * p)\n",
    "def tcm(n, weights, b, c):\n",
    "    return 2 * (weights / b + c) * math.log (n, 2)\n",
    "def t(n, weights, flops, b, c, p):\n",
    "    return tcp(n, flops, p) + tcm(n, weights, b, c)\n",
    "def weights(layers):\n",
    "    w = 0\n",
    "    for i in range(1, len(layers)):\n",
    "        w = w + layers[i - 1] * layers[i]\n",
    "    return w\n",
    "def flops(layers):\n",
    "    return 6 * weights(layers)\n"
   ]
  },
  {
   "cell_type": "code",
   "execution_count": 37,
   "metadata": {
    "collapsed": false
   },
   "outputs": [
    {
     "data": {
      "text/plain": [
       "[<matplotlib.lines.Line2D at 0x62bcfb0>]"
      ]
     },
     "execution_count": 37,
     "metadata": {},
     "output_type": "execute_result"
    },
    {
     "data": {
      "image/png": "[encoded data removed]",
      "text/plain": [
       "<matplotlib.figure.Figure at 0x61f51d0>"
      ]
     },
     "metadata": {},
     "output_type": "display_data"
    }
   ],
   "source": [
    "%matplotlib inline\n",
    "import matplotlib.pyplot as plt\n",
    "import numpy as np\n",
    "n = np.arange(1, 64)\n",
    "flops = 7e12\n",
    "p = 4e12\n",
    "weights = 249 * 1024 * 1024 * 8\n",
    "b = 20 * 8 * 1e9\n",
    "c = 0.0\n",
    "vtcp = np.vectorize(tcp)\n",
    "vtcm = np.vectorize(tcm)\n",
    "vt = np.vectorize(t)\n",
    "tcomp = vtcp(n, flops, p)\n",
    "tcomm = vtcm(n, weights, b, c)\n",
    "titer = vt(n, weights, flops, b, c, p)\n",
    "plt.plot(n,tcomp)\n",
    "plt.plot(n,tcomm)\n",
    "plt.plot(n, titer)\n",
    "#plt.ylabel('some numbers')"
   ]
  },
  {
   "cell_type": "code",
   "execution_count": null,
   "metadata": {
    "collapsed": true
   },
   "outputs": [],
   "source": []
  }
 ],
 "metadata": {
  "kernelspec": {
   "display_name": "Python 3",
   "language": "python",
   "name": "python3"
  },
  "language_info": {
   "codemirror_mode": {
    "name": "ipython",
    "version": 3
   },
   "file_extension": ".py",
   "mimetype": "text/x-python",
   "name": "python",
   "nbconvert_exporter": "python",
   "pygments_lexer": "ipython3",
   "version": "3.5.1"
  }
 },
 "nbformat": 4,
 "nbformat_minor": 0
}
