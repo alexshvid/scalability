{
 "cells": [
  {
   "cell_type": "markdown",
   "metadata": {
    "collapsed": false
   },
   "source": [
    "# Scalability of distributed machine learning"
   ]
  },
  {
   "cell_type": "markdown",
   "metadata": {},
   "source": [
    "Lets consider bulk synchronous parallel processing model. Time of one iteration consists of computation and communication times that depend on the number of operations C, data D and number of nodes n.\n",
    "  - T = tcm + tcp\n",
    "  - tcp = C * f2(n)\n",
    "  - tcm = D * f1(n)"
   ]
  },
  {
   "cell_type": "code",
   "execution_count": 384,
   "metadata": {
    "collapsed": true
   },
   "outputs": [],
   "source": [
    "import math\n",
    "def tcp(n, flops, p):\n",
    "    return flops / (n * p)\n",
    "def tcm(n, weights, b, c):\n",
    "    return 2 * (weights / b + c) * math.log (n, 2)\n",
    "def t(n, weights, flops, b, c, p):\n",
    "    return tcp(n, flops, p) + tcm(n, weights, b, c)\n"
   ]
  },
  {
   "cell_type": "markdown",
   "metadata": {},
   "source": [
    "## Scalability of distributed deep learning\n",
    "### Weights and Flops estimation"
   ]
  },
  {
   "cell_type": "markdown",
   "metadata": {},
   "source": [
    "The following formulas give estimations of number of weights and operations for training fully-connected and convolutional neural networks. Training consists of the forward propagation, backpropagation of error and gradient computation. Lest consider fully-connected networks:\n",
    "  - Weights: intputs times outputs for each layer plus bias: w = Sum(mn+n)\n",
    "  - Training \n",
    "    - Forward: vector-matrix multiplication for each layer, bias addition and activation function, ~2mn=2w\n",
    "    - Backward: vector-matrix and elementwise vector multiplications, ~2nm = 2w\n",
    "    - Gradient computation: column-vector row-vector products, ~nm = w\n",
    "    - Gradient update and total: 5w + 1w = 6w\n",
    "    - Counting \"multiply-add\" operations: 3w"
   ]
  },
  {
   "cell_type": "code",
   "execution_count": 385,
   "metadata": {
    "collapsed": false
   },
   "outputs": [],
   "source": [
    "def weightsAndFlops(layers):\n",
    "    w = 0\n",
    "    for i in range(1, len(layers)):\n",
    "        w = w + layers[i - 1] * layers[i] + layers[i]\n",
    "    return (w, 6 * w)\n",
    "assert(weightsAndFlops([784, 10])[0] == 7850)"
   ]
  },
  {
   "cell_type": "markdown",
   "metadata": {},
   "source": [
    "Convolutional neural networks:\n",
    "  - Weights: (feature maps size plus bias) times depth and number of maps\n",
    "  - Training\n",
    "     - Forward: dot product of input and weights, summation of the result and bias addition, for each feature map and output neuron\n",
    "     - Backward: similar\n",
    "     - Gradient computation: similar\n",
    "     - Total in \"multiply-add\" operations: 3w\n",
    "     \n",
    "Bias adds a lot more weights to convolutional networks, so in recent papers it is not used given that data is normalized."
   ]
  },
  {
   "cell_type": "code",
   "execution_count": 412,
   "metadata": {
    "collapsed": false
   },
   "outputs": [
    {
     "name": "stdout",
     "output_type": "stream",
     "text": [
      "61618208.0 2509668888.0\n"
     ]
    }
   ],
   "source": [
    "import numpy as np\n",
    "def computeConvOutput(data, layer):\n",
    "    n = layer['count']\n",
    "    k = layer['size']\n",
    "    b = layer['border']\n",
    "    s = layer['stride']\n",
    "    c = (data[0] - k + b) // s + 1   \n",
    "    return [c, c, n]\n",
    "def computePoolOutput(data, layer):\n",
    "    n = data[2]\n",
    "    k = layer['size']\n",
    "    b = layer['border']\n",
    "    s = layer['stride']\n",
    "    c = (data[0] - k + b) // s + 1   \n",
    "    return [c, c, n]\n",
    "def cnnWeightsAndFlops(inputLayer, layers, useBias):\n",
    "    w = 0.0\n",
    "    f = 0.0\n",
    "    inputData = inputLayer\n",
    "    for i in range(0, len(layers)):\n",
    "        layer = layers[i]\n",
    "        if (layer['type'] == 'conv'):\n",
    "            n = layer['count']\n",
    "            k = layer['size']\n",
    "            d = layer['depth']\n",
    "            inputData = computeConvOutput(inputData, layer)\n",
    "            c = inputData[0]\n",
    "            bw = 0\n",
    "            if (useBias): \n",
    "                bw = c * c\n",
    "            w = w + n * (k * k * d + bw)\n",
    "            f = f + n * (k * k * d * c * c)\n",
    "        if (layer['type'] == 'pool'):\n",
    "            n = inputData[2]\n",
    "            inputData = computePoolOutput(inputData, layer)\n",
    "        if (layer['type'] == 'full'):\n",
    "            k = layer['size']\n",
    "            inputFlat = np.product(inputData)\n",
    "            bw = 0\n",
    "            if (useBias):\n",
    "                bw = k\n",
    "            w = w + k * inputFlat + bw\n",
    "            f = f + k * inputFlat + k\n",
    "            inputData = [k]\n",
    "    return (w, 3 * f)\n",
    "def cnnWeightsAndFlops2(inputLayer, layers):\n",
    "    w = 0.0\n",
    "    f = 0.0\n",
    "    inputData = inputLayer\n",
    "    for i in range(0, len(layers)):\n",
    "        layer = layers[i]\n",
    "        if (layer['type'] == 'conv'):\n",
    "            n = layer['count']\n",
    "            k = layer['size']\n",
    "            d = layer['depth']\n",
    "            inputData = computeConvOutput(inputData, layer)\n",
    "            c = inputData[0]\n",
    "            dw = n * (k * k * d) # no bias + c * c)\n",
    "            w = w + dw\n",
    "            df = n * (k * k * d * c * c)\n",
    "            f = f + df\n",
    "            print(\"layer: \", i, \" w: \", dw, \" f: \", df)\n",
    "        if (layer['type'] == 'pool'):\n",
    "            n = inputData[2]\n",
    "            inputData = computePoolOutput(inputData, layer)\n",
    "        if (layer['type'] == 'full'):\n",
    "            k = layer['size']\n",
    "            inputFlat = np.product(inputData)\n",
    "            dw = k * inputFlat\n",
    "            w = w + dw\n",
    "            df = dw\n",
    "            f = f + df\n",
    "            inputData = [k]\n",
    "            print(\"layer: \", i, \"w: \", dw, \" f: \", df)\n",
    "    return (w, 3 * f)\n",
    "weights, flops = cnnWeightsAndFlops([227, 227, 3], [\n",
    "                           {'type' : 'conv', 'count' : 96, 'size' : 11, 'depth' : 3, 'stride': 4, 'border' : 0},\n",
    "                           {'type' : 'pool', 'size' : 3, 'stride': 2, 'border' : 0},\n",
    "                           {'type' : 'conv', 'count' : 256, 'size' : 5, 'depth' : 48, 'stride': 1, 'border' : 4},\n",
    "                           {'type' : 'pool', 'size' : 3, 'stride': 2, 'border' : 0},\n",
    "                           {'type' : 'conv', 'count' : 384, 'size' : 3, 'depth' : 256, 'stride': 1, 'border' : 2},\n",
    "                           {'type' : 'conv', 'count' : 384, 'size' : 3, 'depth' : 384, 'stride': 1, 'border' : 2}, # depth is 192 in paper\n",
    "                           {'type' : 'conv', 'count' : 256, 'size' : 3, 'depth' : 192, 'stride': 1, 'border' : 2},\n",
    "                           {'type' : 'pool', 'size' : 3, 'stride': 2, 'border' : 0}, \n",
    "                           {'type' : 'full', 'size' : 4096},\n",
    "                           {'type' : 'full', 'size' : 4096},\n",
    "                           {'type' : 'full', 'size' : 1000}\n",
    "                          ], False)\n",
    "print(weights, flops)\n"
   ]
  },
  {
   "cell_type": "markdown",
   "metadata": {},
   "source": [
    "Unit test"
   ]
  },
  {
   "cell_type": "code",
   "execution_count": 408,
   "metadata": {
    "collapsed": false
   },
   "outputs": [],
   "source": [
    "# LeCun et al. 1982 (1068 + 2592 + 5790 + 310 == 9760 weights)\n",
    "assert cnnWeightsAndFlops([16, 16, 1], [{'type' : 'conv', 'count' : 12, 'size' : 5, 'depth' : 1, 'stride': 2, 'border' : 3}], True)[0] == 1068\n",
    "assert cnnWeightsAndFlops([16, 16, 1], [{'type' : 'conv', 'count' : 12, 'size' : 5, 'depth' : 1, 'stride': 2, 'border' : 3},\n",
    "                         {'type' : 'conv', 'count' : 12, 'size' : 5, 'depth' : 8, 'stride': 2, 'border' : 3},\n",
    "                         {'type' : 'full', 'size' : 30},\n",
    "                         {'type' : 'full', 'size' : 10}], True)[0] == 9760\n",
    "# Krizhevsky et al. 2012, AlexNet, see also https://github.com/BVLC/caffe/blob/master/models/bvlc_alexnet/deploy.prototxt\n",
    "assert(computeConvOutput([227, 227, 3], {'type' : 'conv', 'count' : 96, 'size' : 11, 'depth' : 3, 'stride': 4, 'border' : 0}) == [55, 55, 96])\n",
    "assert(computePoolOutput([55, 55, 96], {'type' : 'pool', 'size' : 3, 'stride': 2, 'border' : 0}) == [27, 27, 96])\n",
    "assert(computeConvOutput([27, 27, 256], {'type' : 'conv', 'count' : 256, 'size' : 5, 'depth' : 48, 'stride': 1, 'border' : 4}) == [27, 27, 256])\n",
    "assert(computePoolOutput([27, 27, 256], {'type' : 'pool', 'size' : 3, 'stride': 2, 'border' : 0}) == [13, 13, 256])\n",
    "assert(computeConvOutput([13, 13, 256], {'type' : 'conv', 'count' : 384, 'size' : 3, 'depth' : 256, 'stride': 1, 'border' : 2}) == [13, 13, 384])\n",
    "assert(computeConvOutput([13, 13, 384], {'type' : 'conv', 'count' : 384, 'size' : 3, 'depth' : 192, 'stride': 1, 'border' : 2}) == [13, 13, 384])\n",
    "assert(computeConvOutput([13, 13, 256], {'type' : 'conv', 'count' : 256, 'size' : 3, 'depth' : 192, 'stride': 1, 'border' : 2}) == [13, 13, 256])\n",
    "assert(computePoolOutput([13, 13, 256], {'type' : 'pool', 'size' : 3, 'stride': 2, 'border' : 0}) == [6, 6, 256])\n",
    "\n",
    "# print(computeConvOutput([227, 227, 3], {'type' : 'conv', 'count' : 64, 'size' : 7, 'depth' : 1, 'stride': 2, 'border' : 2}))\n",
    "# print(\"w, f\", cnnWeightsAndFlops2([227, 227, 3], [{'type' : 'conv', 'count' : 64, 'size' : 7, 'depth' : 1, 'stride': 2, 'border' : 2}]))\n"
   ]
  },
  {
   "cell_type": "markdown",
   "metadata": {},
   "source": [
    "### Scalability of fully connected networks"
   ]
  },
  {
   "cell_type": "markdown",
   "metadata": {},
   "source": [
    "### Scalability of convolutional networks\n",
    "\n",
    "AlexNet"
   ]
  },
  {
   "cell_type": "code",
   "execution_count": 409,
   "metadata": {
    "collapsed": false
   },
   "outputs": [
    {
     "data": {
      "text/plain": [
       "[<matplotlib.lines.Line2D at 0x7e32b90>]"
      ]
     },
     "execution_count": 409,
     "metadata": {},
     "output_type": "execute_result"
    },
    {
     "data": {
      "image/png": "[encoded data removed]",
      "text/plain": [
       "<matplotlib.figure.Figure at 0x7e04190>"
      ]
     },
     "metadata": {},
     "output_type": "display_data"
    }
   ],
   "source": [
    "%matplotlib inline\n",
    "import matplotlib.pyplot as plt\n",
    "import numpy as np\n",
    "n = np.arange(1, 16)\n",
    "weights, flops = cnnWeightsAndFlops([227, 227, 3], [{'type' : 'conv', 'count' : 96, 'size' : 11, 'depth' : 3, 'stride': 4, 'border' : 0},\n",
    "                           {'type' : 'pool', 'size' : 3, 'stride': 2, 'border' : 0},\n",
    "                           {'type' : 'conv', 'count' : 256, 'size' : 5, 'depth' : 48, 'stride': 1, 'border' : 4},\n",
    "                           {'type' : 'pool', 'size' : 3, 'stride': 2, 'border' : 0},\n",
    "                           {'type' : 'conv', 'count' : 384, 'size' : 3, 'depth' : 256, 'stride': 1, 'border' : 2},\n",
    "                           {'type' : 'conv', 'count' : 384, 'size' : 3, 'depth' : 192, 'stride': 1, 'border' : 2},\n",
    "                           {'type' : 'conv', 'count' : 256, 'size' : 3, 'depth' : 192, 'stride': 1, 'border' : 2},\n",
    "                           {'type' : 'pool', 'size' : 3, 'stride': 2, 'border' : 0}, \n",
    "                           {'type' : 'full', 'size' : 4096},\n",
    "                           {'type' : 'full', 'size' : 4096},\n",
    "                           {'type' : 'full', 'size' : 1000}\n",
    "                          ], False)\n",
    "flops = flops * 1024\n",
    "weights = weights * 32\n",
    "p = 2.3e12\n",
    "b = 20 * 8 * 1e9\n",
    "c = 0.0\n",
    "vtcp = np.vectorize(tcp)\n",
    "vtcm = np.vectorize(tcm)\n",
    "vt = np.vectorize(t)\n",
    "tcomp = vtcp(n, flops, p)\n",
    "tcomm = vtcm(n, weights, b, c)\n",
    "titer = vt(n, weights, flops, b, c, p)\n",
    "plt.plot(n,tcomp)\n",
    "plt.plot(n,tcomm)\n",
    "plt.plot(n, titer)\n",
    "#plt.ylabel('some numbers')"
   ]
  },
  {
   "cell_type": "code",
   "execution_count": 402,
   "metadata": {
    "collapsed": false
   },
   "outputs": [
    {
     "data": {
      "text/plain": [
       "14.022893753905997"
      ]
     },
     "execution_count": 402,
     "metadata": {},
     "output_type": "execute_result"
    }
   ],
   "source": [
    "t(1, weights, 7e12, b, c, p) / t(32, weights, 7e12, b, c, p) "
   ]
  },
  {
   "cell_type": "code",
   "execution_count": 403,
   "metadata": {
    "collapsed": false
   },
   "outputs": [
    {
     "data": {
      "text/plain": [
       "2173248024.0"
      ]
     },
     "execution_count": 403,
     "metadata": {},
     "output_type": "execute_result"
    }
   ],
   "source": [
    "flops / 1024"
   ]
  },
  {
   "cell_type": "code",
   "execution_count": null,
   "metadata": {
    "collapsed": true
   },
   "outputs": [],
   "source": []
  },
  {
   "cell_type": "code",
   "execution_count": null,
   "metadata": {
    "collapsed": true
   },
   "outputs": [],
   "source": []
  }
 ],
 "metadata": {
  "kernelspec": {
   "display_name": "Python 3",
   "language": "python",
   "name": "python3"
  },
  "language_info": {
   "codemirror_mode": {
    "name": "ipython",
    "version": 3
   },
   "file_extension": ".py",
   "mimetype": "text/x-python",
   "name": "python",
   "nbconvert_exporter": "python",
   "pygments_lexer": "ipython3",
   "version": "3.5.1"
  }
 },
 "nbformat": 4,
 "nbformat_minor": 0
}
